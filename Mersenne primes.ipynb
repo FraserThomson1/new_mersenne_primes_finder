{
 "cells": [
  {
   "cell_type": "code",
   "execution_count": 1,
   "metadata": {},
   "outputs": [],
   "source": [
    "import math"
   ]
  },
  {
   "cell_type": "code",
   "execution_count": 2,
   "metadata": {},
   "outputs": [],
   "source": [
    "primes = [] #list of primes\n",
    "\n",
    "#function for finding all primes between two given numbers and appeding it to the prime set\n",
    "def findP(n1,n2):\n",
    "    for i in range(n1,n2+1):\n",
    "        ISp = True\n",
    "        for num in primes:\n",
    "            if i % num == 0:\n",
    "                ISp = False\n",
    "                break;\n",
    "        if ISp :\n",
    "            primes.append(i)"
   ]
  },
  {
   "cell_type": "code",
   "execution_count": 3,
   "metadata": {},
   "outputs": [],
   "source": [
    "#recursion function for raising 2 to the power of a large number efficiently\n",
    "def intpow(base,exp):\n",
    "    if exp == 0:\n",
    "        return 1\n",
    "    elif exp == 1:\n",
    "        return base\n",
    "    elif (exp & 1) != 0:\n",
    "        return base * intpow(base * base, exp // 2)\n",
    "    else:\n",
    "        return intpow(base * base, exp // 2)"
   ]
  },
  {
   "cell_type": "code",
   "execution_count": 5,
   "metadata": {},
   "outputs": [],
   "source": [
    "#define the largest mersenne prime found\n",
    "#MERSENNE PRIMES are primes of the form 2^n-1\n",
    "maxFound = intpow(2,82589933)"
   ]
  },
  {
   "cell_type": "code",
   "execution_count": null,
   "metadata": {},
   "outputs": [],
   "source": [
    "#find all primes up to the largest mersenne prime\n",
    "findP(2,maxFound)"
   ]
  },
  {
   "cell_type": "code",
   "execution_count": null,
   "metadata": {},
   "outputs": [],
   "source": [
    "#define mersenne numbers to be numbers in the form 2^n-1\n",
    "\n",
    "n = 82589933\n",
    "num = maxFound\n",
    "Found = False\n",
    "num1 = ((num+1)/2)-1 #define the first num to be the mersenne number before the largets mersenne prime\n",
    "num2 = num #second number to be the largest mersenne prime\n",
    "#finding the next mersenne prime \n",
    "while not Found :\n",
    "    num1 = num2 #define the first number to be the mersenne number after itself\n",
    "    num2 = ((num2+1) * 2)-1 #define the second number to be the mersenne number after itself\n",
    "    findP(num1,num2) #find the primes between the two mersenne numbers\n",
    "    if primes[-1] == num2: #if the last prime in the set is the second number then a larger mersenne number has been found\n",
    "        Found = True\n",
    "        print(n)\n",
    "    n += 1 #increment n by 1"
   ]
  },
  {
   "cell_type": "code",
   "execution_count": null,
   "metadata": {},
   "outputs": [],
   "source": []
  }
 ],
 "metadata": {
  "kernelspec": {
   "display_name": "Python 3",
   "language": "python",
   "name": "python3"
  },
  "language_info": {
   "codemirror_mode": {
    "name": "ipython",
    "version": 3
   },
   "file_extension": ".py",
   "mimetype": "text/x-python",
   "name": "python",
   "nbconvert_exporter": "python",
   "pygments_lexer": "ipython3",
   "version": "3.7.2"
  }
 },
 "nbformat": 4,
 "nbformat_minor": 2
}
